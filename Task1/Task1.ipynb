{
 "cells": [
  {
   "cell_type": "code",
   "execution_count": 33,
   "id": "acb5effd-15f7-4290-8edf-fb11e85f61dc",
   "metadata": {},
   "outputs": [],
   "source": [
    "import tensorflow as tf\n",
    "import matplotlib.pyplot as plt\n",
    "import numpy as np\n",
    "from sklearn.metrics import accuracy_score\n",
    "from sklearn.model_selection import train_test_split\n",
    "from abc import ABC, abstractmethod\n",
    "from sklearn.ensemble import RandomForestClassifier\n",
    "import tensorflow as tf\n",
    "from tensorflow import keras"
   ]
  },
  {
   "cell_type": "code",
   "execution_count": 34,
   "id": "821f1e2c-3bf4-43f7-8976-cf5dbc290b0d",
   "metadata": {},
   "outputs": [],
   "source": [
    "(x_train, y_train), (x_test, y_test) = tf.keras.datasets.mnist.load_data()"
   ]
  },
  {
   "cell_type": "code",
   "execution_count": 35,
   "id": "7a211b8d-6e50-4b2b-9580-a2824b313ba5",
   "metadata": {},
   "outputs": [],
   "source": [
    "class MnistClassifierInterface(ABC):\n",
    "    @abstractmethod\n",
    "    def train(self, x_train, y_train):\n",
    "        pass\n",
    "\n",
    "    @abstractmethod\n",
    "    def predict(self, x_test):\n",
    "        pass"
   ]
  },
  {
   "cell_type": "code",
   "execution_count": 36,
   "id": "ed9cdb96-47fa-48b6-8924-5f7b719f8f79",
   "metadata": {},
   "outputs": [],
   "source": [
    "class RandomForestMnist(MnistClassifierInterface):\n",
    "    def __init__(self, n_estimators=100, max_depth=None, random_state=42, **kwargs):\n",
    "         self.model = RandomForestClassifier(max_depth=np.int64(20), \n",
    "                                             min_samples_leaf=np.int64(1),\n",
    "                                             min_samples_split=np.int64(4),\n",
    "                                             n_estimators=np.int64(400),\n",
    "                                             **kwargs)\n",
    "        \n",
    "    \n",
    "    def train(self, x_train, y_train):\n",
    "        x_train = x_train.reshape(x_train.shape[0], -1) \n",
    "        self.model.fit(x_train, y_train)\n",
    "    \n",
    "    def predict(self, x_test):\n",
    "        x_test = x_test.reshape(x_test.shape[0], -1)\n",
    "        return self.model.predict(x_test)"
   ]
  },
  {
   "cell_type": "code",
   "execution_count": 61,
   "id": "027f1bb9-b29b-48cf-a768-95e83d5844e1",
   "metadata": {},
   "outputs": [],
   "source": [
    "class FeedForwardMnist(MnistClassifierInterface):\n",
    "    def __init__(self, optimizer=\"SGD\", loss=\"categorical_crossentropy\", metrics=[\"accuracy\"]):\n",
    "        self.model = keras.Sequential([\n",
    "        keras.layers.Flatten(input_shape=[28,28]),    #model structure\n",
    "        keras.layers.Dense(300, activation=\"relu\"),\n",
    "        keras.layers.Dense(100, activation=\"relu\"),\n",
    "        keras.layers.Dense(100, activation=\"relu\"),\n",
    "        keras.layers.Dense(10, activation=\"softmax\")\n",
    "        ])\n",
    "        self.model.compile(optimizer=optimizer, loss=loss, metrics=metrics)\n",
    "        \n",
    "    \n",
    "    def train(self, x_train, y_train):\n",
    "        x_train = x_train.astype(\"float32\") / 255.0  #data normalization\n",
    "        y_train = keras.utils.to_categorical(y_train, 10) #one-hot encoding\n",
    "        self.model.fit(x_train, y_train, epochs=75, batch_size=64) #model training\n",
    "    \n",
    "    def predict(self, x_test):\n",
    "        x_test = x_test.astype(\"float32\") / 255.0  #data normalization\n",
    "        predictions = self.model.predict(x_test)\n",
    "        return predictions.argmax(axis=1)"
   ]
  },
  {
   "cell_type": "code",
   "execution_count": 70,
   "id": "9ed95ac6-29bd-46c4-9485-0e4fa7178e5b",
   "metadata": {},
   "outputs": [],
   "source": [
    "class CnnMnist(MnistClassifierInterface):\n",
    "    def __init__(self, optimizer=\"adam\", loss=\"categorical_crossentropy\", metrics=[\"accuracy\"]):\n",
    "        self.model = keras.Sequential([\n",
    "            keras.layers.Conv2D(64,7,activation='relu',padding=\"same\",input_shape=[28,28,1]),\n",
    "            keras.layers.MaxPooling2D(2),\n",
    "            keras.layers.Conv2D(128,3,activation='relu',padding=\"same\"),\n",
    "            keras.layers.Conv2D(128,3,activation='relu',padding=\"same\"),\n",
    "            keras.layers.MaxPooling2D(2),\n",
    "            keras.layers.Conv2D(128,3,activation='relu',padding=\"same\"),\n",
    "            keras.layers.Conv2D(128,3,activation='relu',padding=\"same\"),\n",
    "            keras.layers.MaxPooling2D(2),\n",
    "            keras.layers.Flatten(),\n",
    "            keras.layers.Dense(128,activation='relu'),\n",
    "            keras.layers.Dropout(0.5),\n",
    "            keras.layers.Dense(64,activation='relu'),\n",
    "            keras.layers.Dropout(0.5),\n",
    "            keras.layers.Dense(10, activation=\"softmax\") \n",
    "        ])\n",
    "        self.model.compile(optimizer=optimizer, loss=loss, metrics=metrics)\n",
    "        \n",
    "    \n",
    "    def train(self, x_train, y_train):\n",
    "        x_train = x_train.astype(\"float32\") / 255.0  #data normalization\n",
    "        y_train = keras.utils.to_categorical(y_train, 10) #one-hot encoding\n",
    "        self.model.fit(x_train, y_train, epochs=12, batch_size=64) #model training\n",
    "    \n",
    "    def predict(self, x_test):\n",
    "        x_test = x_test.astype(\"float32\") / 255.0  #data normalization\n",
    "        predictions = self.model.predict(x_test)\n",
    "        return predictions.argmax(axis=1)"
   ]
  },
  {
   "cell_type": "code",
   "execution_count": 71,
   "id": "0709d636-c38e-47a2-a4b0-3744c90e7254",
   "metadata": {},
   "outputs": [],
   "source": [
    "class MnistClassifier:\n",
    "    def __init__(self, algorithm):\n",
    "        if algorithm == \"rf\":\n",
    "            self.classifier = RandomForestMnist()\n",
    "        elif algorithm == \"nn\":\n",
    "            self.classifier = FeedForwardMnist()\n",
    "        elif algorithm == \"cnn\":\n",
    "            self.classifier = CnnMnist()\n",
    "        else:\n",
    "            raise ValueError('Unknown algorithm. Use \"rf\", \"nn\" or \"cnn\".')\n",
    "    \n",
    "    def train(self, x_train, y_train):\n",
    "        self.classifier.train(x_train, y_train)\n",
    "    \n",
    "    def predict(self, x_test):\n",
    "        return self.classifier.predict(x_test)\n"
   ]
  },
  {
   "cell_type": "raw",
   "id": "5bcb104e-b4c1-410d-9a61-83a30936e45b",
   "metadata": {},
   "source": []
  },
  {
   "cell_type": "code",
   "execution_count": 1,
   "id": "c8be98b7-0152-402d-b030-67d385be5fa4",
   "metadata": {},
   "outputs": [],
   "source": [
    "#RandomForest Test"
   ]
  },
  {
   "cell_type": "raw",
   "id": "51ae1705-2a50-48b6-b591-aca25a00d295",
   "metadata": {},
   "source": []
  },
  {
   "cell_type": "code",
   "execution_count": 46,
   "id": "07dde6e3-7b4f-4a81-942e-e88953d8b435",
   "metadata": {},
   "outputs": [],
   "source": [
    "rnd = MnistClassifier('rf')"
   ]
  },
  {
   "cell_type": "code",
   "execution_count": 47,
   "id": "8a6997df-d1a8-4c40-9b9e-90697c6d10f7",
   "metadata": {},
   "outputs": [],
   "source": [
    "rnd.train(x_train, y_train)"
   ]
  },
  {
   "cell_type": "code",
   "execution_count": 48,
   "id": "af725aa1-56c6-4100-b8cd-4ddb57a8a44f",
   "metadata": {},
   "outputs": [],
   "source": [
    "rnd_pred = rnd.predict(x_test)"
   ]
  },
  {
   "cell_type": "code",
   "execution_count": 49,
   "id": "c975b15e-148d-4479-84ee-09a4a26eb0bf",
   "metadata": {},
   "outputs": [
    {
     "data": {
      "text/plain": [
       "array([7, 2, 1, ..., 4, 5, 6], dtype=uint8)"
      ]
     },
     "execution_count": 49,
     "metadata": {},
     "output_type": "execute_result"
    }
   ],
   "source": [
    "rnd_pred"
   ]
  },
  {
   "cell_type": "code",
   "execution_count": 9,
   "id": "d0540534-bd49-4253-a5b6-53c1b99e26dc",
   "metadata": {},
   "outputs": [
    {
     "name": "stdout",
     "output_type": "stream",
     "text": [
      "RandomForest accuracy on MNIST: 0.97\n"
     ]
    }
   ],
   "source": [
    "accuracy_rnd = accuracy_score(y_test, rnd_pred)\n",
    "print(f\"RandomForest accuracy on MNIST: {accuracy_rnd}\")"
   ]
  },
  {
   "cell_type": "raw",
   "id": "cfd4f444-8e1a-499d-892f-06996e3e2e1f",
   "metadata": {},
   "source": []
  },
  {
   "cell_type": "code",
   "execution_count": 2,
   "id": "5295a537-ff1a-437a-a78d-5bde87b79600",
   "metadata": {},
   "outputs": [],
   "source": [
    "#FeedForward Test"
   ]
  },
  {
   "cell_type": "raw",
   "id": "01aa7f90-bfaf-4274-bfb3-317548e9f075",
   "metadata": {},
   "source": []
  },
  {
   "cell_type": "code",
   "execution_count": 63,
   "id": "e0b9cf8a-1661-46f2-a86d-2cca8e51ed11",
   "metadata": {},
   "outputs": [
    {
     "name": "stderr",
     "output_type": "stream",
     "text": [
      "C:\\inter\\venv\\Lib\\site-packages\\keras\\src\\layers\\reshaping\\flatten.py:37: UserWarning: Do not pass an `input_shape`/`input_dim` argument to a layer. When using Sequential models, prefer using an `Input(shape)` object as the first layer in the model instead.\n",
      "  super().__init__(**kwargs)\n"
     ]
    }
   ],
   "source": [
    "ffm = MnistClassifier('nn')"
   ]
  },
  {
   "cell_type": "code",
   "execution_count": 64,
   "id": "17a70720-6b09-4a35-bfe3-0e7f23bbf69f",
   "metadata": {},
   "outputs": [
    {
     "name": "stdout",
     "output_type": "stream",
     "text": [
      "Epoch 1/75\n",
      "\u001b[1m938/938\u001b[0m \u001b[32m━━━━━━━━━━━━━━━━━━━━\u001b[0m\u001b[37m\u001b[0m \u001b[1m3s\u001b[0m 2ms/step - accuracy: 0.5930 - loss: 1.4661\n",
      "Epoch 2/75\n",
      "\u001b[1m938/938\u001b[0m \u001b[32m━━━━━━━━━━━━━━━━━━━━\u001b[0m\u001b[37m\u001b[0m \u001b[1m2s\u001b[0m 2ms/step - accuracy: 0.9020 - loss: 0.3500\n",
      "Epoch 3/75\n",
      "\u001b[1m938/938\u001b[0m \u001b[32m━━━━━━━━━━━━━━━━━━━━\u001b[0m\u001b[37m\u001b[0m \u001b[1m2s\u001b[0m 2ms/step - accuracy: 0.9218 - loss: 0.2730\n",
      "Epoch 4/75\n",
      "\u001b[1m938/938\u001b[0m \u001b[32m━━━━━━━━━━━━━━━━━━━━\u001b[0m\u001b[37m\u001b[0m \u001b[1m2s\u001b[0m 2ms/step - accuracy: 0.9329 - loss: 0.2327\n",
      "Epoch 5/75\n",
      "\u001b[1m938/938\u001b[0m \u001b[32m━━━━━━━━━━━━━━━━━━━━\u001b[0m\u001b[37m\u001b[0m \u001b[1m2s\u001b[0m 2ms/step - accuracy: 0.9406 - loss: 0.2058\n",
      "Epoch 6/75\n",
      "\u001b[1m938/938\u001b[0m \u001b[32m━━━━━━━━━━━━━━━━━━━━\u001b[0m\u001b[37m\u001b[0m \u001b[1m2s\u001b[0m 2ms/step - accuracy: 0.9485 - loss: 0.1815\n",
      "Epoch 7/75\n",
      "\u001b[1m938/938\u001b[0m \u001b[32m━━━━━━━━━━━━━━━━━━━━\u001b[0m\u001b[37m\u001b[0m \u001b[1m2s\u001b[0m 2ms/step - accuracy: 0.9512 - loss: 0.1678\n",
      "Epoch 8/75\n",
      "\u001b[1m938/938\u001b[0m \u001b[32m━━━━━━━━━━━━━━━━━━━━\u001b[0m\u001b[37m\u001b[0m \u001b[1m2s\u001b[0m 2ms/step - accuracy: 0.9567 - loss: 0.1473\n",
      "Epoch 9/75\n",
      "\u001b[1m938/938\u001b[0m \u001b[32m━━━━━━━━━━━━━━━━━━━━\u001b[0m\u001b[37m\u001b[0m \u001b[1m2s\u001b[0m 2ms/step - accuracy: 0.9608 - loss: 0.1378\n",
      "Epoch 10/75\n",
      "\u001b[1m938/938\u001b[0m \u001b[32m━━━━━━━━━━━━━━━━━━━━\u001b[0m\u001b[37m\u001b[0m \u001b[1m2s\u001b[0m 2ms/step - accuracy: 0.9647 - loss: 0.1251\n",
      "Epoch 11/75\n",
      "\u001b[1m938/938\u001b[0m \u001b[32m━━━━━━━━━━━━━━━━━━━━\u001b[0m\u001b[37m\u001b[0m \u001b[1m2s\u001b[0m 2ms/step - accuracy: 0.9681 - loss: 0.1136\n",
      "Epoch 12/75\n",
      "\u001b[1m938/938\u001b[0m \u001b[32m━━━━━━━━━━━━━━━━━━━━\u001b[0m\u001b[37m\u001b[0m \u001b[1m2s\u001b[0m 2ms/step - accuracy: 0.9682 - loss: 0.1102\n",
      "Epoch 13/75\n",
      "\u001b[1m938/938\u001b[0m \u001b[32m━━━━━━━━━━━━━━━━━━━━\u001b[0m\u001b[37m\u001b[0m \u001b[1m2s\u001b[0m 2ms/step - accuracy: 0.9720 - loss: 0.0992\n",
      "Epoch 14/75\n",
      "\u001b[1m938/938\u001b[0m \u001b[32m━━━━━━━━━━━━━━━━━━━━\u001b[0m\u001b[37m\u001b[0m \u001b[1m2s\u001b[0m 2ms/step - accuracy: 0.9744 - loss: 0.0921\n",
      "Epoch 15/75\n",
      "\u001b[1m938/938\u001b[0m \u001b[32m━━━━━━━━━━━━━━━━━━━━\u001b[0m\u001b[37m\u001b[0m \u001b[1m2s\u001b[0m 2ms/step - accuracy: 0.9755 - loss: 0.0863\n",
      "Epoch 16/75\n",
      "\u001b[1m938/938\u001b[0m \u001b[32m━━━━━━━━━━━━━━━━━━━━\u001b[0m\u001b[37m\u001b[0m \u001b[1m2s\u001b[0m 2ms/step - accuracy: 0.9754 - loss: 0.0837\n",
      "Epoch 17/75\n",
      "\u001b[1m938/938\u001b[0m \u001b[32m━━━━━━━━━━━━━━━━━━━━\u001b[0m\u001b[37m\u001b[0m \u001b[1m2s\u001b[0m 2ms/step - accuracy: 0.9788 - loss: 0.0775\n",
      "Epoch 18/75\n",
      "\u001b[1m938/938\u001b[0m \u001b[32m━━━━━━━━━━━━━━━━━━━━\u001b[0m\u001b[37m\u001b[0m \u001b[1m2s\u001b[0m 2ms/step - accuracy: 0.9799 - loss: 0.0707\n",
      "Epoch 19/75\n",
      "\u001b[1m938/938\u001b[0m \u001b[32m━━━━━━━━━━━━━━━━━━━━\u001b[0m\u001b[37m\u001b[0m \u001b[1m2s\u001b[0m 2ms/step - accuracy: 0.9810 - loss: 0.0678\n",
      "Epoch 20/75\n",
      "\u001b[1m938/938\u001b[0m \u001b[32m━━━━━━━━━━━━━━━━━━━━\u001b[0m\u001b[37m\u001b[0m \u001b[1m2s\u001b[0m 2ms/step - accuracy: 0.9820 - loss: 0.0619\n",
      "Epoch 21/75\n",
      "\u001b[1m938/938\u001b[0m \u001b[32m━━━━━━━━━━━━━━━━━━━━\u001b[0m\u001b[37m\u001b[0m \u001b[1m2s\u001b[0m 2ms/step - accuracy: 0.9841 - loss: 0.0582\n",
      "Epoch 22/75\n",
      "\u001b[1m938/938\u001b[0m \u001b[32m━━━━━━━━━━━━━━━━━━━━\u001b[0m\u001b[37m\u001b[0m \u001b[1m2s\u001b[0m 2ms/step - accuracy: 0.9851 - loss: 0.0539\n",
      "Epoch 23/75\n",
      "\u001b[1m938/938\u001b[0m \u001b[32m━━━━━━━━━━━━━━━━━━━━\u001b[0m\u001b[37m\u001b[0m \u001b[1m2s\u001b[0m 2ms/step - accuracy: 0.9857 - loss: 0.0504\n",
      "Epoch 24/75\n",
      "\u001b[1m938/938\u001b[0m \u001b[32m━━━━━━━━━━━━━━━━━━━━\u001b[0m\u001b[37m\u001b[0m \u001b[1m2s\u001b[0m 2ms/step - accuracy: 0.9863 - loss: 0.0498\n",
      "Epoch 25/75\n",
      "\u001b[1m938/938\u001b[0m \u001b[32m━━━━━━━━━━━━━━━━━━━━\u001b[0m\u001b[37m\u001b[0m \u001b[1m2s\u001b[0m 2ms/step - accuracy: 0.9876 - loss: 0.0465\n",
      "Epoch 26/75\n",
      "\u001b[1m938/938\u001b[0m \u001b[32m━━━━━━━━━━━━━━━━━━━━\u001b[0m\u001b[37m\u001b[0m \u001b[1m2s\u001b[0m 2ms/step - accuracy: 0.9887 - loss: 0.0422\n",
      "Epoch 27/75\n",
      "\u001b[1m938/938\u001b[0m \u001b[32m━━━━━━━━━━━━━━━━━━━━\u001b[0m\u001b[37m\u001b[0m \u001b[1m2s\u001b[0m 2ms/step - accuracy: 0.9892 - loss: 0.0399\n",
      "Epoch 28/75\n",
      "\u001b[1m938/938\u001b[0m \u001b[32m━━━━━━━━━━━━━━━━━━━━\u001b[0m\u001b[37m\u001b[0m \u001b[1m2s\u001b[0m 2ms/step - accuracy: 0.9905 - loss: 0.0378\n",
      "Epoch 29/75\n",
      "\u001b[1m938/938\u001b[0m \u001b[32m━━━━━━━━━━━━━━━━━━━━\u001b[0m\u001b[37m\u001b[0m \u001b[1m2s\u001b[0m 2ms/step - accuracy: 0.9907 - loss: 0.0358\n",
      "Epoch 30/75\n",
      "\u001b[1m938/938\u001b[0m \u001b[32m━━━━━━━━━━━━━━━━━━━━\u001b[0m\u001b[37m\u001b[0m \u001b[1m2s\u001b[0m 2ms/step - accuracy: 0.9909 - loss: 0.0344\n",
      "Epoch 31/75\n",
      "\u001b[1m938/938\u001b[0m \u001b[32m━━━━━━━━━━━━━━━━━━━━\u001b[0m\u001b[37m\u001b[0m \u001b[1m2s\u001b[0m 2ms/step - accuracy: 0.9921 - loss: 0.0323\n",
      "Epoch 32/75\n",
      "\u001b[1m938/938\u001b[0m \u001b[32m━━━━━━━━━━━━━━━━━━━━\u001b[0m\u001b[37m\u001b[0m \u001b[1m2s\u001b[0m 2ms/step - accuracy: 0.9915 - loss: 0.0324\n",
      "Epoch 33/75\n",
      "\u001b[1m938/938\u001b[0m \u001b[32m━━━━━━━━━━━━━━━━━━━━\u001b[0m\u001b[37m\u001b[0m \u001b[1m2s\u001b[0m 2ms/step - accuracy: 0.9938 - loss: 0.0283\n",
      "Epoch 34/75\n",
      "\u001b[1m938/938\u001b[0m \u001b[32m━━━━━━━━━━━━━━━━━━━━\u001b[0m\u001b[37m\u001b[0m \u001b[1m2s\u001b[0m 2ms/step - accuracy: 0.9933 - loss: 0.0268\n",
      "Epoch 35/75\n",
      "\u001b[1m938/938\u001b[0m \u001b[32m━━━━━━━━━━━━━━━━━━━━\u001b[0m\u001b[37m\u001b[0m \u001b[1m2s\u001b[0m 2ms/step - accuracy: 0.9939 - loss: 0.0262\n",
      "Epoch 36/75\n",
      "\u001b[1m938/938\u001b[0m \u001b[32m━━━━━━━━━━━━━━━━━━━━\u001b[0m\u001b[37m\u001b[0m \u001b[1m2s\u001b[0m 2ms/step - accuracy: 0.9950 - loss: 0.0231\n",
      "Epoch 37/75\n",
      "\u001b[1m938/938\u001b[0m \u001b[32m━━━━━━━━━━━━━━━━━━━━\u001b[0m\u001b[37m\u001b[0m \u001b[1m2s\u001b[0m 2ms/step - accuracy: 0.9947 - loss: 0.0237\n",
      "Epoch 38/75\n",
      "\u001b[1m938/938\u001b[0m \u001b[32m━━━━━━━━━━━━━━━━━━━━\u001b[0m\u001b[37m\u001b[0m \u001b[1m2s\u001b[0m 2ms/step - accuracy: 0.9954 - loss: 0.0212\n",
      "Epoch 39/75\n",
      "\u001b[1m938/938\u001b[0m \u001b[32m━━━━━━━━━━━━━━━━━━━━\u001b[0m\u001b[37m\u001b[0m \u001b[1m2s\u001b[0m 2ms/step - accuracy: 0.9952 - loss: 0.0229\n",
      "Epoch 40/75\n",
      "\u001b[1m938/938\u001b[0m \u001b[32m━━━━━━━━━━━━━━━━━━━━\u001b[0m\u001b[37m\u001b[0m \u001b[1m2s\u001b[0m 2ms/step - accuracy: 0.9958 - loss: 0.0200\n",
      "Epoch 41/75\n",
      "\u001b[1m938/938\u001b[0m \u001b[32m━━━━━━━━━━━━━━━━━━━━\u001b[0m\u001b[37m\u001b[0m \u001b[1m2s\u001b[0m 2ms/step - accuracy: 0.9967 - loss: 0.0179\n",
      "Epoch 42/75\n",
      "\u001b[1m938/938\u001b[0m \u001b[32m━━━━━━━━━━━━━━━━━━━━\u001b[0m\u001b[37m\u001b[0m \u001b[1m2s\u001b[0m 2ms/step - accuracy: 0.9973 - loss: 0.0170\n",
      "Epoch 43/75\n",
      "\u001b[1m938/938\u001b[0m \u001b[32m━━━━━━━━━━━━━━━━━━━━\u001b[0m\u001b[37m\u001b[0m \u001b[1m2s\u001b[0m 2ms/step - accuracy: 0.9975 - loss: 0.0163\n",
      "Epoch 44/75\n",
      "\u001b[1m938/938\u001b[0m \u001b[32m━━━━━━━━━━━━━━━━━━━━\u001b[0m\u001b[37m\u001b[0m \u001b[1m2s\u001b[0m 2ms/step - accuracy: 0.9971 - loss: 0.0163\n",
      "Epoch 45/75\n",
      "\u001b[1m938/938\u001b[0m \u001b[32m━━━━━━━━━━━━━━━━━━━━\u001b[0m\u001b[37m\u001b[0m \u001b[1m2s\u001b[0m 2ms/step - accuracy: 0.9973 - loss: 0.0150\n",
      "Epoch 46/75\n",
      "\u001b[1m938/938\u001b[0m \u001b[32m━━━━━━━━━━━━━━━━━━━━\u001b[0m\u001b[37m\u001b[0m \u001b[1m2s\u001b[0m 2ms/step - accuracy: 0.9981 - loss: 0.0139\n",
      "Epoch 47/75\n",
      "\u001b[1m938/938\u001b[0m \u001b[32m━━━━━━━━━━━━━━━━━━━━\u001b[0m\u001b[37m\u001b[0m \u001b[1m2s\u001b[0m 2ms/step - accuracy: 0.9983 - loss: 0.0126\n",
      "Epoch 48/75\n",
      "\u001b[1m938/938\u001b[0m \u001b[32m━━━━━━━━━━━━━━━━━━━━\u001b[0m\u001b[37m\u001b[0m \u001b[1m2s\u001b[0m 2ms/step - accuracy: 0.9982 - loss: 0.0122\n",
      "Epoch 49/75\n",
      "\u001b[1m938/938\u001b[0m \u001b[32m━━━━━━━━━━━━━━━━━━━━\u001b[0m\u001b[37m\u001b[0m \u001b[1m2s\u001b[0m 2ms/step - accuracy: 0.9983 - loss: 0.0123\n",
      "Epoch 50/75\n",
      "\u001b[1m938/938\u001b[0m \u001b[32m━━━━━━━━━━━━━━━━━━━━\u001b[0m\u001b[37m\u001b[0m \u001b[1m2s\u001b[0m 2ms/step - accuracy: 0.9984 - loss: 0.0115\n",
      "Epoch 51/75\n",
      "\u001b[1m938/938\u001b[0m \u001b[32m━━━━━━━━━━━━━━━━━━━━\u001b[0m\u001b[37m\u001b[0m \u001b[1m2s\u001b[0m 2ms/step - accuracy: 0.9984 - loss: 0.0118\n",
      "Epoch 52/75\n",
      "\u001b[1m938/938\u001b[0m \u001b[32m━━━━━━━━━━━━━━━━━━━━\u001b[0m\u001b[37m\u001b[0m \u001b[1m2s\u001b[0m 2ms/step - accuracy: 0.9988 - loss: 0.0101\n",
      "Epoch 53/75\n",
      "\u001b[1m938/938\u001b[0m \u001b[32m━━━━━━━━━━━━━━━━━━━━\u001b[0m\u001b[37m\u001b[0m \u001b[1m2s\u001b[0m 2ms/step - accuracy: 0.9987 - loss: 0.0104\n",
      "Epoch 54/75\n",
      "\u001b[1m938/938\u001b[0m \u001b[32m━━━━━━━━━━━━━━━━━━━━\u001b[0m\u001b[37m\u001b[0m \u001b[1m2s\u001b[0m 2ms/step - accuracy: 0.9990 - loss: 0.0094\n",
      "Epoch 55/75\n",
      "\u001b[1m938/938\u001b[0m \u001b[32m━━━━━━━━━━━━━━━━━━━━\u001b[0m\u001b[37m\u001b[0m \u001b[1m2s\u001b[0m 2ms/step - accuracy: 0.9991 - loss: 0.0093\n",
      "Epoch 56/75\n",
      "\u001b[1m938/938\u001b[0m \u001b[32m━━━━━━━━━━━━━━━━━━━━\u001b[0m\u001b[37m\u001b[0m \u001b[1m2s\u001b[0m 2ms/step - accuracy: 0.9994 - loss: 0.0075\n",
      "Epoch 57/75\n",
      "\u001b[1m938/938\u001b[0m \u001b[32m━━━━━━━━━━━━━━━━━━━━\u001b[0m\u001b[37m\u001b[0m \u001b[1m2s\u001b[0m 2ms/step - accuracy: 0.9993 - loss: 0.0084\n",
      "Epoch 58/75\n",
      "\u001b[1m938/938\u001b[0m \u001b[32m━━━━━━━━━━━━━━━━━━━━\u001b[0m\u001b[37m\u001b[0m \u001b[1m2s\u001b[0m 2ms/step - accuracy: 0.9994 - loss: 0.0078\n",
      "Epoch 59/75\n",
      "\u001b[1m938/938\u001b[0m \u001b[32m━━━━━━━━━━━━━━━━━━━━\u001b[0m\u001b[37m\u001b[0m \u001b[1m2s\u001b[0m 2ms/step - accuracy: 0.9993 - loss: 0.0073\n",
      "Epoch 60/75\n",
      "\u001b[1m938/938\u001b[0m \u001b[32m━━━━━━━━━━━━━━━━━━━━\u001b[0m\u001b[37m\u001b[0m \u001b[1m2s\u001b[0m 2ms/step - accuracy: 0.9995 - loss: 0.0072\n",
      "Epoch 61/75\n",
      "\u001b[1m938/938\u001b[0m \u001b[32m━━━━━━━━━━━━━━━━━━━━\u001b[0m\u001b[37m\u001b[0m \u001b[1m2s\u001b[0m 2ms/step - accuracy: 0.9995 - loss: 0.0068\n",
      "Epoch 62/75\n",
      "\u001b[1m938/938\u001b[0m \u001b[32m━━━━━━━━━━━━━━━━━━━━\u001b[0m\u001b[37m\u001b[0m \u001b[1m2s\u001b[0m 3ms/step - accuracy: 0.9997 - loss: 0.0062\n",
      "Epoch 63/75\n",
      "\u001b[1m938/938\u001b[0m \u001b[32m━━━━━━━━━━━━━━━━━━━━\u001b[0m\u001b[37m\u001b[0m \u001b[1m2s\u001b[0m 3ms/step - accuracy: 0.9995 - loss: 0.0061\n",
      "Epoch 64/75\n",
      "\u001b[1m938/938\u001b[0m \u001b[32m━━━━━━━━━━━━━━━━━━━━\u001b[0m\u001b[37m\u001b[0m \u001b[1m2s\u001b[0m 3ms/step - accuracy: 0.9997 - loss: 0.0056\n",
      "Epoch 65/75\n",
      "\u001b[1m938/938\u001b[0m \u001b[32m━━━━━━━━━━━━━━━━━━━━\u001b[0m\u001b[37m\u001b[0m \u001b[1m2s\u001b[0m 3ms/step - accuracy: 0.9997 - loss: 0.0050\n",
      "Epoch 66/75\n",
      "\u001b[1m938/938\u001b[0m \u001b[32m━━━━━━━━━━━━━━━━━━━━\u001b[0m\u001b[37m\u001b[0m \u001b[1m2s\u001b[0m 2ms/step - accuracy: 0.9997 - loss: 0.0055\n",
      "Epoch 67/75\n",
      "\u001b[1m938/938\u001b[0m \u001b[32m━━━━━━━━━━━━━━━━━━━━\u001b[0m\u001b[37m\u001b[0m \u001b[1m2s\u001b[0m 2ms/step - accuracy: 0.9997 - loss: 0.0054\n",
      "Epoch 68/75\n",
      "\u001b[1m938/938\u001b[0m \u001b[32m━━━━━━━━━━━━━━━━━━━━\u001b[0m\u001b[37m\u001b[0m \u001b[1m2s\u001b[0m 2ms/step - accuracy: 0.9997 - loss: 0.0052\n",
      "Epoch 69/75\n",
      "\u001b[1m938/938\u001b[0m \u001b[32m━━━━━━━━━━━━━━━━━━━━\u001b[0m\u001b[37m\u001b[0m \u001b[1m2s\u001b[0m 2ms/step - accuracy: 0.9998 - loss: 0.0048\n",
      "Epoch 70/75\n",
      "\u001b[1m938/938\u001b[0m \u001b[32m━━━━━━━━━━━━━━━━━━━━\u001b[0m\u001b[37m\u001b[0m \u001b[1m2s\u001b[0m 2ms/step - accuracy: 0.9998 - loss: 0.0045\n",
      "Epoch 71/75\n",
      "\u001b[1m938/938\u001b[0m \u001b[32m━━━━━━━━━━━━━━━━━━━━\u001b[0m\u001b[37m\u001b[0m \u001b[1m2s\u001b[0m 2ms/step - accuracy: 0.9998 - loss: 0.0043\n",
      "Epoch 72/75\n",
      "\u001b[1m938/938\u001b[0m \u001b[32m━━━━━━━━━━━━━━━━━━━━\u001b[0m\u001b[37m\u001b[0m \u001b[1m2s\u001b[0m 2ms/step - accuracy: 0.9998 - loss: 0.0043\n",
      "Epoch 73/75\n",
      "\u001b[1m938/938\u001b[0m \u001b[32m━━━━━━━━━━━━━━━━━━━━\u001b[0m\u001b[37m\u001b[0m \u001b[1m2s\u001b[0m 3ms/step - accuracy: 0.9998 - loss: 0.0040\n",
      "Epoch 74/75\n",
      "\u001b[1m938/938\u001b[0m \u001b[32m━━━━━━━━━━━━━━━━━━━━\u001b[0m\u001b[37m\u001b[0m \u001b[1m2s\u001b[0m 2ms/step - accuracy: 0.9998 - loss: 0.0041\n",
      "Epoch 75/75\n",
      "\u001b[1m938/938\u001b[0m \u001b[32m━━━━━━━━━━━━━━━━━━━━\u001b[0m\u001b[37m\u001b[0m \u001b[1m2s\u001b[0m 2ms/step - accuracy: 0.9999 - loss: 0.0037\n"
     ]
    }
   ],
   "source": [
    "ffm.train(x_train, y_train)"
   ]
  },
  {
   "cell_type": "code",
   "execution_count": 65,
   "id": "58938596-2129-418d-8ac0-6b3740f1a246",
   "metadata": {},
   "outputs": [
    {
     "name": "stdout",
     "output_type": "stream",
     "text": [
      "\u001b[1m313/313\u001b[0m \u001b[32m━━━━━━━━━━━━━━━━━━━━\u001b[0m\u001b[37m\u001b[0m \u001b[1m1s\u001b[0m 2ms/step  \n"
     ]
    }
   ],
   "source": [
    "ffm_pred = ffm.predict(x_test) "
   ]
  },
  {
   "cell_type": "code",
   "execution_count": 68,
   "id": "362fcd74-0507-4382-b67d-1568bea44a3b",
   "metadata": {},
   "outputs": [
    {
     "name": "stdout",
     "output_type": "stream",
     "text": [
      "FeedForward accuracy on MNIST: 0.9781\n"
     ]
    }
   ],
   "source": [
    "accuracy_ff = accuracy_score(y_test, ffm_pred)\n",
    "print(f\"FeedForward accuracy on MNIST: {accuracy_ff}\")"
   ]
  },
  {
   "cell_type": "raw",
   "id": "7f78144b-6a7d-419a-a025-4dc415660e50",
   "metadata": {},
   "source": []
  },
  {
   "cell_type": "code",
   "execution_count": 3,
   "id": "f97951e5-3215-4cb8-abb1-82573fdee5c6",
   "metadata": {},
   "outputs": [],
   "source": [
    "#CNN Test"
   ]
  },
  {
   "cell_type": "raw",
   "id": "b22193ac-d4ba-4cd2-b87b-4c5483e33271",
   "metadata": {},
   "source": []
  },
  {
   "cell_type": "code",
   "execution_count": 77,
   "id": "451406ef-5246-41ed-8831-7f41765d43cb",
   "metadata": {},
   "outputs": [
    {
     "name": "stderr",
     "output_type": "stream",
     "text": [
      "C:\\inter\\venv\\Lib\\site-packages\\keras\\src\\layers\\convolutional\\base_conv.py:107: UserWarning: Do not pass an `input_shape`/`input_dim` argument to a layer. When using Sequential models, prefer using an `Input(shape)` object as the first layer in the model instead.\n",
      "  super().__init__(activity_regularizer=activity_regularizer, **kwargs)\n"
     ]
    }
   ],
   "source": [
    "cnn = MnistClassifier('cnn')"
   ]
  },
  {
   "cell_type": "code",
   "execution_count": 78,
   "id": "289b6790-9199-4515-888e-9516884be736",
   "metadata": {},
   "outputs": [
    {
     "name": "stdout",
     "output_type": "stream",
     "text": [
      "Epoch 1/12\n",
      "\u001b[1m938/938\u001b[0m \u001b[32m━━━━━━━━━━━━━━━━━━━━\u001b[0m\u001b[37m\u001b[0m \u001b[1m45s\u001b[0m 45ms/step - accuracy: 0.7258 - loss: 0.8060\n",
      "Epoch 2/12\n",
      "\u001b[1m938/938\u001b[0m \u001b[32m━━━━━━━━━━━━━━━━━━━━\u001b[0m\u001b[37m\u001b[0m \u001b[1m42s\u001b[0m 45ms/step - accuracy: 0.9649 - loss: 0.1406\n",
      "Epoch 3/12\n",
      "\u001b[1m938/938\u001b[0m \u001b[32m━━━━━━━━━━━━━━━━━━━━\u001b[0m\u001b[37m\u001b[0m \u001b[1m42s\u001b[0m 45ms/step - accuracy: 0.9787 - loss: 0.0883\n",
      "Epoch 4/12\n",
      "\u001b[1m938/938\u001b[0m \u001b[32m━━━━━━━━━━━━━━━━━━━━\u001b[0m\u001b[37m\u001b[0m \u001b[1m42s\u001b[0m 45ms/step - accuracy: 0.9857 - loss: 0.0669\n",
      "Epoch 5/12\n",
      "\u001b[1m938/938\u001b[0m \u001b[32m━━━━━━━━━━━━━━━━━━━━\u001b[0m\u001b[37m\u001b[0m \u001b[1m42s\u001b[0m 45ms/step - accuracy: 0.9883 - loss: 0.0511\n",
      "Epoch 6/12\n",
      "\u001b[1m938/938\u001b[0m \u001b[32m━━━━━━━━━━━━━━━━━━━━\u001b[0m\u001b[37m\u001b[0m \u001b[1m41s\u001b[0m 44ms/step - accuracy: 0.9877 - loss: 0.0501\n",
      "Epoch 7/12\n",
      "\u001b[1m938/938\u001b[0m \u001b[32m━━━━━━━━━━━━━━━━━━━━\u001b[0m\u001b[37m\u001b[0m \u001b[1m41s\u001b[0m 44ms/step - accuracy: 0.9892 - loss: 0.0485\n",
      "Epoch 8/12\n",
      "\u001b[1m938/938\u001b[0m \u001b[32m━━━━━━━━━━━━━━━━━━━━\u001b[0m\u001b[37m\u001b[0m \u001b[1m41s\u001b[0m 44ms/step - accuracy: 0.9927 - loss: 0.0309\n",
      "Epoch 9/12\n",
      "\u001b[1m938/938\u001b[0m \u001b[32m━━━━━━━━━━━━━━━━━━━━\u001b[0m\u001b[37m\u001b[0m \u001b[1m41s\u001b[0m 44ms/step - accuracy: 0.9926 - loss: 0.0314\n",
      "Epoch 10/12\n",
      "\u001b[1m938/938\u001b[0m \u001b[32m━━━━━━━━━━━━━━━━━━━━\u001b[0m\u001b[37m\u001b[0m \u001b[1m41s\u001b[0m 44ms/step - accuracy: 0.9929 - loss: 0.0309\n",
      "Epoch 11/12\n",
      "\u001b[1m938/938\u001b[0m \u001b[32m━━━━━━━━━━━━━━━━━━━━\u001b[0m\u001b[37m\u001b[0m \u001b[1m41s\u001b[0m 44ms/step - accuracy: 0.9939 - loss: 0.0248\n",
      "Epoch 12/12\n",
      "\u001b[1m938/938\u001b[0m \u001b[32m━━━━━━━━━━━━━━━━━━━━\u001b[0m\u001b[37m\u001b[0m \u001b[1m41s\u001b[0m 44ms/step - accuracy: 0.9937 - loss: 0.0261\n"
     ]
    }
   ],
   "source": [
    "cnn.train(x_train, y_train)"
   ]
  },
  {
   "cell_type": "code",
   "execution_count": 79,
   "id": "b9af577d-57a2-4b26-a492-ab67ad774424",
   "metadata": {},
   "outputs": [
    {
     "name": "stdout",
     "output_type": "stream",
     "text": [
      "\u001b[1m313/313\u001b[0m \u001b[32m━━━━━━━━━━━━━━━━━━━━\u001b[0m\u001b[37m\u001b[0m \u001b[1m3s\u001b[0m 8ms/step\n"
     ]
    }
   ],
   "source": [
    "cnn_pred = cnn.predict(x_test)"
   ]
  },
  {
   "cell_type": "code",
   "execution_count": 80,
   "id": "227d7052-a506-4ee9-ad3a-6b204a354cde",
   "metadata": {},
   "outputs": [
    {
     "name": "stdout",
     "output_type": "stream",
     "text": [
      "FeedForward accuracy on MNIST: 0.993\n"
     ]
    }
   ],
   "source": [
    "accuracy_cnn = accuracy_score(y_test, cnn_pred)\n",
    "print(f\"CNN on MNIST: {accuracy_cnn}\")"
   ]
  },
  {
   "cell_type": "code",
   "execution_count": null,
   "id": "d8123e38-ba31-4406-9fb6-45ccc76ec2aa",
   "metadata": {},
   "outputs": [],
   "source": []
  }
 ],
 "metadata": {
  "kernelspec": {
   "display_name": "Python 3 (ipykernel)",
   "language": "python",
   "name": "python3"
  },
  "language_info": {
   "codemirror_mode": {
    "name": "ipython",
    "version": 3
   },
   "file_extension": ".py",
   "mimetype": "text/x-python",
   "name": "python",
   "nbconvert_exporter": "python",
   "pygments_lexer": "ipython3",
   "version": "3.12.3"
  }
 },
 "nbformat": 4,
 "nbformat_minor": 5
}
